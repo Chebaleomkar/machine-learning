{
 "cells": [
  {
   "cell_type": "code",
   "execution_count": 15,
   "id": "a6cd8226",
   "metadata": {},
   "outputs": [
    {
     "name": "stdout",
     "output_type": "stream",
     "text": [
      "      Name      City Purchased\n",
      "0    Alice  New York       Yes\n",
      "1      Bob    London        No\n",
      "2  Charlie     Paris       Yes\n",
      "3    David  New York        No\n",
      "4      Eva    London       yes\n"
     ]
    }
   ],
   "source": [
    "from sklearn.preprocessing import LabelEncoder\n",
    "import pandas as pd\n",
    "\n",
    "df = pd.read_csv(\"sample_data.csv\")\n",
    "\n",
    "print(df)"
   ]
  },
  {
   "cell_type": "code",
   "execution_count": 16,
   "id": "1a804ab9",
   "metadata": {},
   "outputs": [
    {
     "name": "stdout",
     "output_type": "stream",
     "text": [
      "      Name Purchased  Purchased_encoded\n",
      "0    Alice       Yes                  1\n",
      "1      Bob        No                  0\n",
      "2  Charlie       Yes                  1\n",
      "3    David        No                  0\n",
      "4      Eva       yes                  2\n"
     ]
    }
   ],
   "source": [
    "df_label = df.copy()\n",
    "encoder = LabelEncoder()\n",
    "\n",
    "df_label[\"Purchased_encoded\"] = encoder.fit_transform(df_label[\"Purchased\"])\n",
    "\n",
    "print(df_label[[\"Name\" , \"Purchased\" , \"Purchased_encoded\"]])"
   ]
  }
 ],
 "metadata": {
  "kernelspec": {
   "display_name": "venv (3.13.5)",
   "language": "python",
   "name": "python3"
  },
  "language_info": {
   "codemirror_mode": {
    "name": "ipython",
    "version": 3
   },
   "file_extension": ".py",
   "mimetype": "text/x-python",
   "name": "python",
   "nbconvert_exporter": "python",
   "pygments_lexer": "ipython3",
   "version": "3.13.5"
  }
 },
 "nbformat": 4,
 "nbformat_minor": 5
}
