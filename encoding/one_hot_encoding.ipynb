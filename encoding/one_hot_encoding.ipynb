{
 "cells": [
  {
   "cell_type": "code",
   "execution_count": 14,
   "id": "bddb815b",
   "metadata": {},
   "outputs": [
    {
     "name": "stdout",
     "output_type": "stream",
     "text": [
      "      Name      City Purchased\n",
      "0    Alice  New York       Yes\n",
      "1      Bob    London        No\n",
      "2  Charlie     Paris       Yes\n",
      "3    David  New York        No\n",
      "4      Eva    London       yes\n"
     ]
    }
   ],
   "source": [
    "from sklearn.preprocessing import LabelEncoder\n",
    "import pandas as pd\n",
    "\n",
    "df = pd.read_csv(\"sample_data.csv\")\n",
    "\n",
    "df_copy = df.copy()\n",
    "print(df_copy)"
   ]
  },
  {
   "cell_type": "code",
   "execution_count": 15,
   "id": "63b33927",
   "metadata": {},
   "outputs": [
    {
     "name": "stdout",
     "output_type": "stream",
     "text": [
      "      Name Purchased  City_New York  City_Paris\n",
      "0    Alice       Yes              1           0\n",
      "1      Bob        No              0           0\n",
      "2  Charlie       Yes              0           1\n",
      "3    David        No              1           0\n",
      "4      Eva       yes              0           0\n"
     ]
    }
   ],
   "source": [
    "df_encode = pd.get_dummies(df_copy , columns=[\"City\"] , dtype=int , drop_first=True)\n",
    "print(df_encode)"
   ]
  }
 ],
 "metadata": {
  "kernelspec": {
   "display_name": "venv (3.13.5)",
   "language": "python",
   "name": "python3"
  },
  "language_info": {
   "codemirror_mode": {
    "name": "ipython",
    "version": 3
   },
   "file_extension": ".py",
   "mimetype": "text/x-python",
   "name": "python",
   "nbconvert_exporter": "python",
   "pygments_lexer": "ipython3",
   "version": "3.13.5"
  }
 },
 "nbformat": 4,
 "nbformat_minor": 5
}
