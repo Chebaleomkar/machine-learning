{
 "cells": [
  {
   "cell_type": "code",
   "execution_count": 5,
   "id": "d9c96b59",
   "metadata": {},
   "outputs": [
    {
     "name": "stdout",
     "output_type": "stream",
     "text": [
      "Based on your hours 3.5 you may score around [70.25] \n"
     ]
    }
   ],
   "source": [
    "from sklearn.linear_model import LinearRegression\n",
    "\n",
    "model = LinearRegression()\n",
    "\n",
    "x = [[1] , [2] , [3] ,[4] ,[5]]\n",
    "y = [40,50,65,75,90] \n",
    " \n",
    "model.fit(x,y)\n",
    "\n",
    "hours = float(input(\"Enter how many hrs you studied \"))\n",
    "predicted_marks = model.predict([[hours]])\n",
    "\n",
    "print(f\"Based on your hours {hours} you may score around {predicted_marks} \")"
   ]
  },
  {
   "cell_type": "code",
   "execution_count": 6,
   "id": "1ee28949",
   "metadata": {},
   "outputs": [
    {
     "name": "stdout",
     "output_type": "stream",
     "text": [
      "Based on hrs you studed 3.5 . You can score around [78.1]\n"
     ]
    }
   ],
   "source": [
    "from sklearn.linear_model import LinearRegression\n",
    "\n",
    "model = LinearRegression()\n",
    "\n",
    "x = [[1],[2],[3],[4],[5]]\n",
    "y = [50,60,75,86,92]\n",
    "\n",
    "model.fit(x,y)\n",
    "\n",
    "hours = float(input(\"Enter hrs you studied\"))\n",
    "predicted_marks = model.predict([[hours]])\n",
    "\n",
    "print(f\"Based on hrs you studed {hours} . You can score around {predicted_marks}\")"
   ]
  }
 ],
 "metadata": {
  "kernelspec": {
   "display_name": "Python 3",
   "language": "python",
   "name": "python3"
  },
  "language_info": {
   "codemirror_mode": {
    "name": "ipython",
    "version": 3
   },
   "file_extension": ".py",
   "mimetype": "text/x-python",
   "name": "python",
   "nbconvert_exporter": "python",
   "pygments_lexer": "ipython3",
   "version": "3.13.5"
  }
 },
 "nbformat": 4,
 "nbformat_minor": 5
}
