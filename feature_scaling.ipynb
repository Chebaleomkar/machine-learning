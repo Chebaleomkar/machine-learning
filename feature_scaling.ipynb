{
 "cells": [
  {
   "cell_type": "code",
   "execution_count": null,
   "id": "6bc9a437",
   "metadata": {},
   "outputs": [],
   "source": [
    "from sklearn.preprocessing import StandardScaler , MinMaxScaler\n",
    "\n",
    "scaler  = StandardScaler()\n",
    "x_scaled = scaler.fit_transform()\n",
    "\n",
    "scaler = MinMaxScaler()\n",
    "x_scaled = scaler.fit_transform()\n",
    "\n",
    "\n"
   ]
  },
  {
   "cell_type": "code",
   "execution_count": 10,
   "id": "d68c911f",
   "metadata": {},
   "outputs": [
    {
     "name": "stdout",
     "output_type": "stream",
     "text": [
      "Standar Scaler Output :\n",
      "   StudyHours  TestScore\n",
      "0   -1.414214  -1.414214\n",
      "1   -0.707107  -0.707107\n",
      "2    0.000000   0.000000\n",
      "3    0.707107   0.707107\n",
      "4    1.414214   1.414214\n",
      "Min Max scaled output\n",
      "   StudhyHours  TestScore\n",
      "0         0.00       0.00\n",
      "1         0.25       0.25\n",
      "2         0.50       0.50\n",
      "3         0.75       0.75\n",
      "4         1.00       1.00\n",
      "___________Tranining Data_____________\n",
      "   StudyHours\n",
      "4           5\n",
      "2           3\n",
      "0           1\n",
      "3           4\n",
      "Testing Data\n",
      "   StudyHours\n",
      "1           2\n",
      "___________Tranining Data Y_____________\n",
      "   TestScore\n",
      "4         80\n",
      "2         60\n",
      "0         40\n",
      "3         70\n",
      "Testing Data Y\n",
      "   TestScore\n",
      "1         50\n"
     ]
    }
   ],
   "source": [
    "import pandas as pd\n",
    "from sklearn.preprocessing import StandardScaler , MinMaxScaler\n",
    "from sklearn.model_selection import train_test_split\n",
    "\n",
    "data = {\n",
    "    \"StudyHours\" : [1,2,3,4,5],\n",
    "    \"TestScore\" : [40,50 ,60,70,80,]\n",
    "}\n",
    "df = pd.DataFrame(data)\n",
    "standard_scaler = StandardScaler() # create scaler object\n",
    "standard_scaled = standard_scaler.fit_transform(df) # standard scaler = actual_value - mean/ standard_deviation\n",
    "\n",
    "print(\"Standar Scaler Output :\")\n",
    "\n",
    "print(pd.DataFrame(standard_scaled , columns=[\"StudyHours\" , \"TestScore\"]))\n",
    "\n",
    "minMax_scaler = MinMaxScaler()\n",
    "minMax_scaleed = minMax_scaler.fit_transform(df) # scaled = actual_value - min_value / max_value - min_value\n",
    "\n",
    "print(\"Min Max scaled output\")\n",
    "\n",
    "print(pd.DataFrame(minMax_scaleed , columns=[\"StudhyHours\" , \"TestScore\"]))\n",
    "\n",
    "x = df[[\"StudyHours\"]]\n",
    "y = df[[\"TestScore\"]]\n",
    "\n",
    "x_train , x_test , y_train , y_test = train_test_split(x, y , test_size=0.2 , random_state=42)\n",
    "\n",
    "print(\"___________Tranining Data_____________\")\n",
    "print(x_train)\n",
    "\n",
    "print(\"Testing Data\")\n",
    "print(x_test)\n",
    "\n",
    "print(\"___________Tranining Data Y_____________\")\n",
    "print(y_train)\n",
    "\n",
    "print(\"Testing Data Y\")\n",
    "print(y_test)\n"
   ]
  }
 ],
 "metadata": {
  "kernelspec": {
   "display_name": "Python 3",
   "language": "python",
   "name": "python3"
  },
  "language_info": {
   "codemirror_mode": {
    "name": "ipython",
    "version": 3
   },
   "file_extension": ".py",
   "mimetype": "text/x-python",
   "name": "python",
   "nbconvert_exporter": "python",
   "pygments_lexer": "ipython3",
   "version": "3.13.5"
  }
 },
 "nbformat": 4,
 "nbformat_minor": 5
}
