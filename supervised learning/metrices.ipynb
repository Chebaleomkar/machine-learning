{
 "cells": [
  {
   "cell_type": "code",
   "execution_count": null,
   "id": "63cf73dd",
   "metadata": {},
   "outputs": [
    {
     "name": "stdout",
     "output_type": "stream",
     "text": [
      "Accuracy 0.7142857142857143\n",
      "Precision 0.75\n",
      "Recall 0.75\n",
      "F1 Score 0.75\n"
     ]
    }
   ],
   "source": [
    "from sklearn.metrics import accuracy_score , precision_score , recall_score , f1_score\n",
    "\n",
    "# true answers ( what actually happened)\n",
    "y_true = [1,0,1,1,0,1,0]\n",
    "\n",
    "# models prediction ( what is guessed)\n",
    "y_predict = [1,0,1,0,0,1,1]\n",
    "\n",
    "print(\"Accuracy\", accuracy_score(y_true ,y_predict))\n",
    "print(\"Precision\" , precision_score(y_true , y_predict))\n",
    "print(\"Recall\" , precision_score(y_true , y_predict))\n",
    "print(\"F1 Score\" , f1_score(y_true , y_predict))\n"
   ]
  },
  {
   "cell_type": "markdown",
   "id": "ff425591",
   "metadata": {},
   "source": [
    "CONFUSION METRICS"
   ]
  },
  {
   "cell_type": "code",
   "execution_count": 11,
   "id": "2d6d65bf",
   "metadata": {},
   "outputs": [
    {
     "name": "stdout",
     "output_type": "stream",
     "text": [
      "confusion_matrix\n",
      "[[4 1]\n",
      " [1 4]]\n"
     ]
    }
   ],
   "source": [
    "from sklearn.metrics import confusion_matrix\n",
    "\n",
    "y_true = [1,0,1,1,0,1,0,0,1,0]\n",
    "y_pred = [1,0,1,0,0,1,1,0,1,0]\n",
    "\n",
    "cm = confusion_matrix(y_true , y_pred)\n",
    "\n",
    "print(\"confusion_matrix\")\n",
    "print(cm)"
   ]
  },
  {
   "cell_type": "markdown",
   "id": "6d16d010",
   "metadata": {},
   "source": [
    "# MAE , MSC , RMSE"
   ]
  },
  {
   "cell_type": "code",
   "execution_count": 15,
   "id": "b6fa9e85",
   "metadata": {},
   "outputs": [
    {
     "name": "stdout",
     "output_type": "stream",
     "text": [
      "MAE: On average off by :  7.5\n",
      "MSE :  Squared mistake Value :  62.5\n",
      "RMSE : final realistic error :  7.905694150420948\n"
     ]
    }
   ],
   "source": [
    "from sklearn.metrics import mean_absolute_error , mean_squared_error \n",
    "import numpy as np\n",
    "\n",
    "# real scores\n",
    "real_scores  = [90,60,80,100]\n",
    "\n",
    "# model guess\n",
    "predicted_score = [85,70,70,95]\n",
    "\n",
    "mae =mean_absolute_error(real_scores , predicted_score)\n",
    "\n",
    "mse = mean_squared_error(real_scores , predicted_score)\n",
    "\n",
    "rmse = np.sqrt(mse)\n",
    "\n",
    "print(\"MAE: On average off by : \" , mae)\n",
    "print(\"MSE :  Squared mistake Value : \" , mse)\n",
    "print(\"RMSE : final realistic error : \" , rmse)"
   ]
  }
 ],
 "metadata": {
  "kernelspec": {
   "display_name": "Python 3",
   "language": "python",
   "name": "python3"
  },
  "language_info": {
   "codemirror_mode": {
    "name": "ipython",
    "version": 3
   },
   "file_extension": ".py",
   "mimetype": "text/x-python",
   "name": "python",
   "nbconvert_exporter": "python",
   "pygments_lexer": "ipython3",
   "version": "3.13.5"
  }
 },
 "nbformat": 4,
 "nbformat_minor": 5
}
