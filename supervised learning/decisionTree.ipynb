{
 "cells": [
  {
   "cell_type": "markdown",
   "id": "b93e30c3",
   "metadata": {},
   "source": [
    "is fever > 100\n",
    "    yes > cough ?\n",
    "        yes > flu\n",
    "        No > Maybe\n",
    "    No - No Flu"
   ]
  },
  {
   "cell_type": "code",
   "execution_count": 6,
   "id": "ff7f220b",
   "metadata": {},
   "outputs": [
    {
     "name": "stdout",
     "output_type": "stream",
     "text": [
      "This is likely an Apple\n"
     ]
    }
   ],
   "source": [
    "from sklearn.tree import DecisionTreeClassifier\n",
    "\n",
    "x = [\n",
    "    [7,2], # apple\n",
    "    [8, 3],  # apple\n",
    "    [9,8],   # Orange\n",
    "    [10,9]   # Orange\n",
    "]\n",
    "y = [0,0,1,1] # 0=Apple , 1=Orange\n",
    "\n",
    "model = DecisionTreeClassifier()\n",
    "\n",
    "model.fit(x,y)\n",
    "\n",
    "size = float(input(\"Enter the weight in grams : \"))\n",
    "shade = float(input(\"Enter the color shade (1-10): \"))\n",
    "\n",
    "result = model.predict([[size , shade]])[0]\n",
    "\n",
    "if result == 0 : \n",
    "    print(\"This is likely an Apple\")\n",
    "else:\n",
    "    print(\"This is likely an Orange\")"
   ]
  },
  {
   "cell_type": "code",
   "execution_count": null,
   "id": "41549a60",
   "metadata": {},
   "outputs": [],
   "source": []
  }
 ],
 "metadata": {
  "kernelspec": {
   "display_name": "Python 3",
   "language": "python",
   "name": "python3"
  },
  "language_info": {
   "codemirror_mode": {
    "name": "ipython",
    "version": 3
   },
   "file_extension": ".py",
   "mimetype": "text/x-python",
   "name": "python",
   "nbconvert_exporter": "python",
   "pygments_lexer": "ipython3",
   "version": "3.13.5"
  }
 },
 "nbformat": 4,
 "nbformat_minor": 5
}
