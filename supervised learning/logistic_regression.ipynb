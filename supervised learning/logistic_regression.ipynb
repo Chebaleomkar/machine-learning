{
 "cells": [
  {
   "cell_type": "code",
   "execution_count": 1,
   "id": "25fb5f50",
   "metadata": {},
   "outputs": [
    {
     "name": "stdout",
     "output_type": "stream",
     "text": [
      "Based on hours 23.0 , you are like to PASS\n"
     ]
    }
   ],
   "source": [
    "from sklearn.linear_model import LogisticRegression\n",
    "\n",
    "x = [[1] , [2] , [3] , [4] , [5]]\n",
    "y= [0,0,1,1,1]\n",
    "\n",
    "model = LogisticRegression()\n",
    "model.fit(x,y)\n",
    "\n",
    "hours = float(input(\"Enter how many hours you studied = \"))\n",
    "result = model.predict([[hours]])[0]\n",
    "\n",
    "if result == 1 : \n",
    "    print(f\"Based on hours {hours} , you are like to PASS\")\n",
    "else :\n",
    "    print(f\"Based on hours {hours} , you are like to FAIL\")\n",
    "\n"
   ]
  },
  {
   "cell_type": "code",
   "execution_count": null,
   "id": "3a13732b",
   "metadata": {},
   "outputs": [
    {
     "name": "stdout",
     "output_type": "stream",
     "text": [
      "You may crack exam.\n"
     ]
    }
   ],
   "source": [
    "from sklearn.linear_model import LogisticRegression\n",
    "\n",
    "x = [[1] , [2] , [3] , [4] , [5]]\n",
    "y= [0,0,0,0,1]\n",
    "\n",
    "model = LogisticRegression()\n",
    "model.fit(x,y)\n",
    "\n",
    "hours = float(input(\"Enter hrs you studied :\"))\n",
    "result = model.predict([[hours]])[0]\n",
    "\n",
    "if result == 1:\n",
    "    print(\"You may crack exam.\")\n",
    "else : \n",
    "    print(\"You may not crack exam.\")\n"
   ]
  },
  {
   "cell_type": "code",
   "execution_count": null,
   "id": "a3ecec0d",
   "metadata": {},
   "outputs": [],
   "source": []
  }
 ],
 "metadata": {
  "kernelspec": {
   "display_name": "Python 3",
   "language": "python",
   "name": "python3"
  },
  "language_info": {
   "codemirror_mode": {
    "name": "ipython",
    "version": 3
   },
   "file_extension": ".py",
   "mimetype": "text/x-python",
   "name": "python",
   "nbconvert_exporter": "python",
   "pygments_lexer": "ipython3",
   "version": "3.13.5"
  }
 },
 "nbformat": 4,
 "nbformat_minor": 5
}
